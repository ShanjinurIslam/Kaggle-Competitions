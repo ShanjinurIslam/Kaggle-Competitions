{
 "cells": [
  {
   "cell_type": "code",
   "execution_count": 1,
   "metadata": {},
   "outputs": [],
   "source": [
    "import numpy as np\n",
    "import pandas as pd\n",
    "import matplotlib.pyplot as plt\n",
    "import os\n",
    "\n",
    "import tensorflow as tf"
   ]
  },
  {
   "cell_type": "code",
   "execution_count": 2,
   "metadata": {},
   "outputs": [],
   "source": [
    "path = os.path.curdir\n",
    "IMG_HEIGHT = 150\n",
    "IMG_WIDTH = 150\n",
    "BATCH_SIZE = 64\n",
    "CLASSES = ['EOSINOPHIL',\n",
    "'LYMPHOCYTE',\n",
    "'MONOCYTE',\n",
    "'NEUTROPHIL'\n",
    "]"
   ]
  },
  {
   "cell_type": "code",
   "execution_count": 3,
   "metadata": {},
   "outputs": [],
   "source": [
    "train_path = os.path.join(path,'dataset/TRAIN') \n",
    "val_path = os.path.join(path,'dataset/TEST') "
   ]
  },
  {
   "cell_type": "code",
   "execution_count": 4,
   "metadata": {},
   "outputs": [],
   "source": [
    "from tensorflow.keras.preprocessing.image import ImageDataGenerator\n",
    "\n",
    "train_data_generator = ImageDataGenerator(rescale=1./255)\n",
    "val_data_generator = ImageDataGenerator(rescale=1./255)"
   ]
  },
  {
   "cell_type": "code",
   "execution_count": 5,
   "metadata": {},
   "outputs": [
    {
     "name": "stdout",
     "output_type": "stream",
     "text": [
      "Found 9957 images belonging to 4 classes.\n",
      "Found 2487 images belonging to 4 classes.\n"
     ]
    }
   ],
   "source": [
    "train_data = train_data_generator.flow_from_directory(train_path,target_size=(IMG_HEIGHT,IMG_WIDTH),classes=CLASSES,class_mode=\"sparse\")\n",
    "val_data = val_data_generator.flow_from_directory(val_path,target_size=(IMG_HEIGHT,IMG_WIDTH),classes=CLASSES,class_mode=\"sparse\")"
   ]
  },
  {
   "cell_type": "code",
   "execution_count": 6,
   "metadata": {},
   "outputs": [],
   "source": [
    "from tensorflow.keras.layers import Conv2D,Dense,Flatten,Dropout,BatchNormalization\n",
    "from tensorflow.keras.models import Sequential\n",
    "\n",
    "model = Sequential(layers=[\n",
    "    Conv2D(32,(3,3),padding='valid',activation='relu',input_shape=(IMG_HEIGHT,IMG_WIDTH,3),strides=(2, 2)),\n",
    "    BatchNormalization(),\n",
    "    Conv2D(64,(3,3),padding='valid',activation='relu',strides=(2, 2)),\n",
    "    BatchNormalization(),\n",
    "    Conv2D(128,(3,3),padding='valid',activation='relu',strides=(2, 2)),\n",
    "    Flatten(),\n",
    "    Dropout(.2),\n",
    "    Dense(512,activation='relu'),\n",
    "    Dense(4,activation='softmax')\n",
    "    ])"
   ]
  },
  {
   "cell_type": "code",
   "execution_count": 7,
   "metadata": {},
   "outputs": [
    {
     "name": "stdout",
     "output_type": "stream",
     "text": [
      "Model: \"sequential\"\n",
      "_________________________________________________________________\n",
      "Layer (type)                 Output Shape              Param #   \n",
      "=================================================================\n",
      "conv2d (Conv2D)              (None, 74, 74, 32)        896       \n",
      "_________________________________________________________________\n",
      "batch_normalization (BatchNo (None, 74, 74, 32)        128       \n",
      "_________________________________________________________________\n",
      "conv2d_1 (Conv2D)            (None, 36, 36, 64)        18496     \n",
      "_________________________________________________________________\n",
      "batch_normalization_1 (Batch (None, 36, 36, 64)        256       \n",
      "_________________________________________________________________\n",
      "conv2d_2 (Conv2D)            (None, 17, 17, 128)       73856     \n",
      "_________________________________________________________________\n",
      "flatten (Flatten)            (None, 36992)             0         \n",
      "_________________________________________________________________\n",
      "dropout (Dropout)            (None, 36992)             0         \n",
      "_________________________________________________________________\n",
      "dense (Dense)                (None, 512)               18940416  \n",
      "_________________________________________________________________\n",
      "dense_1 (Dense)              (None, 4)                 2052      \n",
      "=================================================================\n",
      "Total params: 19,036,100\n",
      "Trainable params: 19,035,908\n",
      "Non-trainable params: 192\n",
      "_________________________________________________________________\n"
     ]
    }
   ],
   "source": [
    "model.compile(optimizer='adam',loss='sparse_categorical_crossentropy',metrics=['accuracy'])\n",
    "model.summary()"
   ]
  },
  {
   "cell_type": "code",
   "execution_count": 8,
   "metadata": {},
   "outputs": [
    {
     "name": "stdout",
     "output_type": "stream",
     "text": [
      "WARNING:tensorflow:sample_weight modes were coerced from\n",
      "  ...\n",
      "    to  \n",
      "  ['...']\n",
      "WARNING:tensorflow:sample_weight modes were coerced from\n",
      "  ...\n",
      "    to  \n",
      "  ['...']\n",
      "Train for 155 steps, validate for 78 steps\n",
      "Epoch 1/15\n",
      "155/155 [==============================] - 52s 335ms/step - loss: 2.4017 - accuracy: 0.3599 - val_loss: 1.3966 - val_accuracy: 0.2493\n",
      "Epoch 2/15\n",
      "155/155 [==============================] - 53s 342ms/step - loss: 0.9363 - accuracy: 0.5831 - val_loss: 1.3646 - val_accuracy: 0.3181\n",
      "Epoch 3/15\n",
      "155/155 [==============================] - 54s 351ms/step - loss: 0.7331 - accuracy: 0.6635 - val_loss: 2.0900 - val_accuracy: 0.2497\n",
      "Epoch 4/15\n",
      "155/155 [==============================] - 56s 363ms/step - loss: 0.5621 - accuracy: 0.7436 - val_loss: 1.2823 - val_accuracy: 0.3997\n",
      "Epoch 5/15\n",
      "155/155 [==============================] - 56s 363ms/step - loss: 0.4524 - accuracy: 0.8001 - val_loss: 3.0834 - val_accuracy: 0.4443\n",
      "Epoch 6/15\n",
      "155/155 [==============================] - 58s 376ms/step - loss: 0.4003 - accuracy: 0.8352 - val_loss: 14.8060 - val_accuracy: 0.2509\n",
      "Epoch 7/15\n",
      "155/155 [==============================] - 58s 373ms/step - loss: 0.3329 - accuracy: 0.8597 - val_loss: 3.1130 - val_accuracy: 0.4873\n",
      "Epoch 8/15\n",
      "155/155 [==============================] - 59s 378ms/step - loss: 0.2610 - accuracy: 0.8865 - val_loss: 1.3534 - val_accuracy: 0.6080\n",
      "Epoch 9/15\n",
      "155/155 [==============================] - 60s 386ms/step - loss: 0.2468 - accuracy: 0.9006 - val_loss: 6.1275 - val_accuracy: 0.4053\n",
      "Epoch 10/15\n",
      "155/155 [==============================] - 59s 381ms/step - loss: 0.2987 - accuracy: 0.8808 - val_loss: 2.4500 - val_accuracy: 0.6204\n",
      "Epoch 11/15\n",
      "155/155 [==============================] - 59s 382ms/step - loss: 0.1614 - accuracy: 0.9368 - val_loss: 1.9137 - val_accuracy: 0.6578\n",
      "Epoch 12/15\n",
      "155/155 [==============================] - 60s 386ms/step - loss: 0.1584 - accuracy: 0.9402 - val_loss: 1.0990 - val_accuracy: 0.7539\n",
      "Epoch 13/15\n",
      "155/155 [==============================] - 60s 387ms/step - loss: 0.1737 - accuracy: 0.9335 - val_loss: 2.3618 - val_accuracy: 0.7286\n",
      "Epoch 14/15\n",
      "155/155 [==============================] - 60s 387ms/step - loss: 0.1357 - accuracy: 0.9452 - val_loss: 1.1518 - val_accuracy: 0.6844\n",
      "Epoch 15/15\n",
      "155/155 [==============================] - 59s 383ms/step - loss: 0.1401 - accuracy: 0.9469 - val_loss: 2.1840 - val_accuracy: 0.6743\n"
     ]
    },
    {
     "data": {
      "text/plain": [
       "<tensorflow.python.keras.callbacks.History at 0x7f2a56698350>"
      ]
     },
     "execution_count": 8,
     "metadata": {},
     "output_type": "execute_result"
    }
   ],
   "source": [
    "model.fit(train_data,epochs=15,steps_per_epoch=9957//BATCH_SIZE,validation_data=val_data)"
   ]
  },
  {
   "cell_type": "code",
   "execution_count": 11,
   "metadata": {},
   "outputs": [
    {
     "name": "stdout",
     "output_type": "stream",
     "text": [
      "WARNING:tensorflow:sample_weight modes were coerced from\n",
      "  ...\n",
      "    to  \n",
      "  ['...']\n",
      "312/312 [==============================] - 21s 66ms/step - loss: 0.3496 - accuracy: 0.8741\n"
     ]
    },
    {
     "data": {
      "text/plain": [
       "[0.34958778011302155, 0.8740584]"
      ]
     },
     "execution_count": 11,
     "metadata": {},
     "output_type": "execute_result"
    }
   ],
   "source": [
    "model.evaluate(train_data)"
   ]
  },
  {
   "cell_type": "code",
   "execution_count": 12,
   "metadata": {},
   "outputs": [
    {
     "name": "stdout",
     "output_type": "stream",
     "text": [
      "WARNING:tensorflow:sample_weight modes were coerced from\n",
      "  ...\n",
      "    to  \n",
      "  ['...']\n",
      "78/78 [==============================] - 5s 67ms/step - loss: 2.1840 - accuracy: 0.6743\n"
     ]
    },
    {
     "data": {
      "text/plain": [
       "[2.1840125005214643, 0.6743064]"
      ]
     },
     "execution_count": 12,
     "metadata": {},
     "output_type": "execute_result"
    }
   ],
   "source": [
    "model.evaluate(val_data)"
   ]
  },
  {
   "cell_type": "code",
   "execution_count": null,
   "metadata": {},
   "outputs": [],
   "source": []
  }
 ],
 "metadata": {
  "kernelspec": {
   "display_name": "Python 3",
   "language": "python",
   "name": "python3"
  },
  "language_info": {
   "codemirror_mode": {
    "name": "ipython",
    "version": 3
   },
   "file_extension": ".py",
   "mimetype": "text/x-python",
   "name": "python",
   "nbconvert_exporter": "python",
   "pygments_lexer": "ipython3",
   "version": "3.7.6"
  }
 },
 "nbformat": 4,
 "nbformat_minor": 4
}
